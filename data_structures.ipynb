{
  "nbformat": 4,
  "nbformat_minor": 0,
  "metadata": {
    "colab": {
      "provenance": []
    },
    "kernelspec": {
      "name": "python3",
      "display_name": "Python 3"
    },
    "language_info": {
      "name": "python"
    }
  },
  "cells": [
    {
      "cell_type": "markdown",
      "source": [
        "#1)What are data structures, and why are they important?\n",
        "-->Data structures are just ways of organizing and storing data in a computer so that we can use it easily and efficiently.\n",
        "\n",
        "They help us arrange data properly so that finding, adding, or deleting information becomes fast and simple.\n",
        "\n",
        "For example:\n",
        "\n",
        "-A list helps us store items in order.\n",
        "\n",
        "-A dictionary stores data as key–value pairs, like a mini database.\n",
        "\n",
        "-Data structures are important because they make our programs:\n",
        "\n",
        "-Faster (since data is arranged smartly),\n",
        "\n",
        "-Easier to manage, and\n",
        "\n",
        "-More efficient, especially when dealing with large amounts of data.\n",
        "\n",
        "#2)Explain the difference between mutable and immutable data types with examples?\n",
        "-->Mutable Data Types\n",
        "\n",
        "These can be changed after they are created.\n",
        "You can add, remove, or modify elements without creating a new object.\n",
        "\n",
        "Examples:\n",
        "\n",
        " List, Dictionary, Set\n",
        "\n",
        "Example Code:\n",
        "\n",
        "    numbers = [1, 2, 3]\n",
        "    numbers.append(4)     # List is changed\n",
        "    print(numbers)        # Output: [1, 2, 3, 4]\n",
        "\n",
        "-->Immutable Data Types\n",
        "\n",
        "These cannot be changed once created.\n",
        "If you try to modify them, Python creates a new object instead of changing the old one.\n",
        "\n",
        "Examples:\n",
        "\n",
        " String, Tuple, Integer\n",
        "\n",
        "Example Code:\n",
        "\n",
        "    name = \"Sneha\"\n",
        "    name = name + \" Jadhav\"   # Creates a new string\n",
        "    print(name)               # Output: Sneha Jadhav\n",
        "\n",
        "\n",
        "#3)What are the main differences between lists and tuples in Python?\n",
        "-->1. Mutability\n",
        "\n",
        "A list is mutable, which means you can add, remove, or change its elements.\n",
        "\n",
        "A tuple is immutable, so once you create it, you can’t change anything inside it.\n",
        "\n",
        "Example:\n",
        "\n",
        "    fruits = [\"apple\", \"banana\", \"mango\"]\n",
        "    fruits.append(\"orange\")   # Works fine\n",
        "\n",
        "    colors = (\"red\", \"green\", \"blue\")\n",
        "    # colors.append(\"yellow\")  # This will give an error\n",
        "\n",
        "-->2. Syntax\n",
        "\n",
        "->Lists use square brackets [ ]\n",
        "    Example: [1, 2, 3]\n",
        "\n",
        "->Tuples use round brackets ( )\n",
        "    Example: (1, 2, 3)\n",
        "\n",
        "-->3. Speed and Memory\n",
        "\n",
        "Tuples are a little faster and use less memory because they can’t change,\n",
        "while lists take a bit more space since they’re flexible.\n",
        "\n",
        "-->4. Use Case\n",
        "\n",
        "Use lists when you need to update or modify data (like student marks or shopping lists).\n",
        "\n",
        "Use tuples when the data should stay the same (like coordinates or days of the week)\n",
        "\n",
        "#4)Describe how dictionaries store data?\n",
        "-->In Python, a dictionary is a data structure that stores data in the form of key–value pairs.\n",
        "Each piece of data has two parts — a key (which acts like a name or label) and a value (the actual data you want to store).\n",
        "\n",
        "~ How it stores data:\n",
        "\n",
        "Dictionaries use an internal structure called a hash table.\n",
        "\n",
        "Each key is passed through a hash function, which converts it into a unique number (called a hash value).\n",
        "\n",
        "This hash value decides where the value is stored in memory.\n",
        "\n",
        "When you search for a key, Python uses its hash to instantly find the corresponding value — this makes dictionaries very fast for lookups.\n",
        "\n",
        "💡 Example:\n",
        "student = {\"name\": \"Sneha\", \"age\": 20, \"city\": \"Pune\"}\n",
        "\n",
        "    # Here:\n",
        "    # \"name\", \"age\", and \"city\" are keys\n",
        "    # \"Sneha\", 20, and \"Pune\" are values\n",
        "\n",
        "\n",
        "If you type:\n",
        "\n",
        "    print(student[\"age\"])\n",
        "\n",
        "\n",
        "Output:\n",
        "\n",
        "20\n",
        "\n",
        "#5)Why might you use a set instead of a list in Python?\n",
        "-->1. Removes Duplicates Automatically\n",
        "\n",
        "A set does not allow duplicate values, while a list can.\n",
        "This is helpful when you need to keep only unique items.\n",
        "\n",
        "Example:\n",
        "\n",
        "    numbers = [1, 2, 2, 3, 3, 3]\n",
        "    unique_numbers = set(numbers)\n",
        "    print(unique_numbers)   # Output: {1, 2, 3}\n",
        "\n",
        "-->2. Faster Membership Checking\n",
        "\n",
        "Checking whether an item exists (using in) is much faster in a set than in a list,\n",
        "because sets use a hash table internally.\n",
        "\n",
        "Example:\n",
        "\n",
        "    names = {\"Sneha\", \"Riya\", \"Aarav\"}\n",
        "    print(\"Riya\" in names)   # Very fast lookup\n",
        "\n",
        "-->3. Useful for Mathematical Operations\n",
        "\n",
        "Sets make it easy to do union, intersection, and difference operations —\n",
        "something that’s harder with lists.\n",
        "\n",
        "Example:\n",
        "\n",
        "    a = {1, 2, 3}\n",
        "    b = {3, 4, 5}\n",
        "    print(a.union(b))         # {1, 2, 3, 4, 5}\n",
        "    print(a.intersection(b))  # {3}\n",
        "\n",
        "#6)What is a string in Python, and how is it different from a list?\n",
        "-->In Python, a string is a sequence of characters enclosed in quotes — single (' '), double (\" \"), or triple quotes (''' ''').\n",
        "It’s used to store text like names, sentences, or messages.\n",
        "\n",
        "-->Example of a String:\n",
        "\n",
        "name = \"Sneha Jadhav\"\n",
        "\n",
        "\n",
        "Here, \"Sneha Jadhav\" is a string made up of individual characters like S, n, e, etc.\n",
        "\n",
        "\n",
        "--> Difference Between String and List:\n",
        "\n",
        "\n",
        "| Feature                  | **String**                                         | **List**                                                |\n",
        "| ------------------------ | -------------------------------------------------- | ------------------------------------------------------- |\n",
        "| **Data Type**            | Stores **characters (text)**                       | Stores **multiple data types** (numbers, strings, etc.) |\n",
        "| **Mutable or Immutable** | **Immutable** (cannot be changed after creation)   | **Mutable** (you can modify, add, or remove elements)   |\n",
        "| **Syntax**               | Enclosed in quotes `' '` or `\" \"`                  | Enclosed in square brackets `[ ]`                       |\n",
        "| **Example**              | `\"hello\"`                                          | `[1, 2, 3, \"hello\"]`                                    |\n",
        "| **Changing Value**       |  Not allowed → `text[0] = 'H'` will give an error | Allowed → `items[0] = 10` is valid                    |\n",
        "\n",
        "\n",
        "--># List Example\n",
        "\n",
        "    lst = ['h', 'e', 'l', 'l', 'o']\n",
        "    lst[0] = 'H'   #  Works fine\n",
        "    print(lst)     # Output: ['H', 'e', 'l', 'l', 'o']\n",
        "\n",
        "#7)How do tuples ensure data integrity in Python?\n",
        "-->In Python, tuples are immutable, which means once a tuple is created, its elements cannot be changed, added, or removed.\n",
        "\n",
        "This property ensures data integrity because the data inside the tuple is safe from accidental modification.\n",
        "\n",
        "~ Example:\n",
        "\n",
        "    coordinates = (10, 20)\n",
        "    # coordinates[0] = 15   # This will cause an error\n",
        "\n",
        "\n",
        "Here, the values 10 and 20 cannot be changed, so the original data stays intact.\n",
        "\n",
        "~ Why it ensures integrity:\n",
        "\n",
        "Immutability: No accidental updates or deletions.\n",
        "\n",
        "Predictability: Data remains consistent throughout the program.\n",
        "\n",
        "Safe to use as keys: Tuples can be used as dictionary keys because their data cannot change.\n",
        "\n",
        "#8)What is a hash table, and how does it relate to dictionaries in Python?\n",
        "-->A hash table is a special data structure that stores data in key–value pairs for very fast access.\n",
        "\n",
        "Each key is passed through a hash function, which converts it into a unique number (called a hash value).\n",
        "\n",
        "This hash value determines where the value is stored in memory, so looking up a value using its key is almost instant.\n",
        "\n",
        "~ Relation to Python Dictionaries\n",
        "\n",
        "Python dictionaries are implemented using hash tables internally:\n",
        "\n",
        "The keys in a dictionary are hashed.\n",
        "\n",
        "The values are stored at the memory location determined by the hash.\n",
        "\n",
        "This makes retrieving, adding, or deleting data very fast (average O(1) time).\n",
        "\n",
        "~ Example:\n",
        "\n",
        "    student = {\"name\": \"Sneha\", \"age\": 20}\n",
        "\n",
        "    # Accessing by key\n",
        "    print(student[\"age\"])  # Output: 20\n",
        "\n",
        "\n",
        "Here, Python uses the hash of \"age\" to find the value 20 immediately.\n",
        "\n",
        "#9)Can lists contain different data types in Python?\n",
        "-->Yes! In Python, lists can contain different data types in the same list.\n",
        "\n",
        "You can store numbers, strings, booleans, or even other lists together. This makes lists very flexible.\n",
        "\n",
        "~ Example:\n",
        "\n",
        "\n",
        "    my_list = [10, \"Hello\", 3.14, True, [1, 2, 3]]\n",
        "    print(my_list)\n",
        "\n",
        "\n",
        "Output:\n",
        "\n",
        "[10, 'Hello', 3.14, True, [1, 2, 3]]\n",
        "\n",
        "#10)Explain why strings are immutable in Python?\n",
        "-->In Python, strings are immutable, which means once a string is created, its contents cannot be changed.\n",
        "\n",
        "~ Why Strings Are Immutable:\n",
        "\n",
        "->Memory Efficiency:\n",
        "\n",
        "Immutable objects can be shared safely in memory without risk of being changed.\n",
        "\n",
        "This makes Python more memory-efficient.\n",
        "\n",
        "->Data Safety:\n",
        "\n",
        "Since strings can’t be altered, their values stay consistent and predictable throughout the program.\n",
        "\n",
        "->Hashability:\n",
        "\n",
        "Immutable objects can be used as dictionary keys or elements of a set, because their value cannot change.\n",
        "\n",
        "~ Example:\n",
        "\n",
        "    name = \"Sneha\"\n",
        "    # name[0] = \"S\"   # Error: Strings cannot be modified\n",
        "    # Instead, we create a new string:\n",
        "    new_name = \"S\" + name[1:]\n",
        "    print(new_name)   # Output: Sneha\n",
        "\n",
        "#11)What advantages do dictionaries offer over lists for certain tasks?\n",
        "-->Dictionaries offer several advantages over lists, especially when you need to store and access data efficiently using keys.\n",
        "\n",
        "~ 1. Fast Data Retrieval\n",
        "\n",
        "Dictionaries use a hash table, so looking up a value by its key is very fast (O(1)),\n",
        "whereas searching in a list takes O(n) time.\n",
        "\n",
        "Example:\n",
        "\n",
        "    # Dictionary lookup\n",
        "    student = {\"name\": \"Sneha\", \"age\": 20}\n",
        "    print(student[\"age\"])  # Fast access\n",
        "\n",
        "~2. Key-Value Storage\n",
        "\n",
        "Dictionaries store data as key–value pairs, making it easy to label and organize data.\n",
        "\n",
        "Lists only store values, so you need indexes to identify items.\n",
        "\n",
        "Example:\n",
        "\n",
        "    # Dictionary\n",
        "    student = {\"name\": \"Sneha\", \"age\": 20}\n",
        "    # List\n",
        "    student_list = [\"Sneha\", 20]  # Need to remember index 0=name, 1=age\n",
        "\n",
        "~ 3. Flexibility\n",
        "\n",
        "Dictionary keys can be used to access, update, or remove data directly.\n",
        "\n",
        "Lists require searching or knowing the index to find a value.\n",
        "\n",
        "#12)Describe a scenario where using a tuple would be preferable over a list?\n",
        "-->A tuple is preferable over a list when you want to store data that should not change throughout your program.\n",
        "\n",
        "Since tuples are immutable, they protect the data from accidental modification, making your program safer and more predictable.\n",
        "\n",
        "~ Scenario Example: Storing Coordinates\n",
        "\n",
        "Suppose you are working with GPS coordinates or points on a graph:\n",
        "\n",
        "    coordinates = (10.5, 20.3)\n",
        "\n",
        "\n",
        "The (10.5, 20.3) represents a fixed location.\n",
        "\n",
        "Using a tuple ensures these coordinates cannot be accidentally changed, unlike a list.\n",
        "\n",
        "#13)How do sets handle duplicate values in Python?\n",
        "-->In Python, a set automatically removes duplicate values.\n",
        "When you try to add a value that already exists in the set, Python ignores it, so every element in a set is unique.\n",
        "\n",
        "~ Example:\n",
        "\n",
        "    numbers = {1, 2, 2, 3, 3, 3, 4}\n",
        "    print(numbers)  # Output: {1, 2, 3, 4}\n",
        "\n",
        "\n",
        "Even though 2 and 3 appear multiple times, the set stores each value only once.\n",
        "\n",
        "~ Why This Happens\n",
        "\n",
        "Sets use a hash table internally, which ensures each element has a unique hash.\n",
        "\n",
        "If an element with the same hash already exists, it is not added again.\n",
        "\n",
        "#14)How does the “in” keyword work differently for lists and dictionaries?\n",
        "-->In Python, the in keyword is used to check if an element exists, but it works slightly differently for lists and dictionaries.\n",
        "\n",
        "1. Lists\n",
        "\n",
        "When you use in on a list, Python checks if the value exists anywhere in the list.\n",
        "\n",
        "It looks through each element sequentially.\n",
        "\n",
        "Example:\n",
        "\n",
        "    fruits = [\"apple\", \"banana\", \"mango\"]\n",
        "    print(\"banana\" in fruits)  # Output: True\n",
        "    print(\"orange\" in fruits)  # Output: False\n",
        "\n",
        "2. Dictionaries\n",
        "\n",
        "When you use in on a dictionary, Python checks if the key exists, not the value.\n",
        "\n",
        "Example:\n",
        "\n",
        "    student = {\"name\": \"Sneha\", \"age\": 20}\n",
        "    print(\"name\" in student)   # Output: True\n",
        "    print(\"Sneha\" in student)  # Output: False\n",
        "\n",
        "\n",
        "To check values, you would use:\n",
        "\n",
        "print(\"Sneha\" in student.values())  # Output: True\n",
        "\n",
        "#15)Can you modify the elements of a tuple? Explain why or why not?\n",
        "-->No, you cannot modify the elements of a tuple in Python.\n",
        "\n",
        ">Reason:\n",
        "\n",
        "Tuples are immutable, which means once a tuple is created, its contents cannot be changed, added, or removed.\n",
        "\n",
        "This immutability ensures that the data inside a tuple remains safe and consistent throughout the program.\n",
        "\n",
        "~ Example:\n",
        "\n",
        "    colors = (\"red\", \"green\", \"blue\")\n",
        "    # colors[0] = \"yellow\"   # This will cause an error\n",
        "\n",
        "\n",
        "If you need to \"change\" a tuple, you must create a new tuple:\n",
        "\n",
        "new_colors = (\"yellow\",) + colors[1:]\n",
        "print(new_colors)   # Output: ('yellow', 'green', 'blue')\n",
        "\n",
        "#16)What is a nested dictionary, and give an example of its use case?\n",
        "--?A nested dictionary is a dictionary inside another dictionary.\n",
        "It allows you to store more complex or hierarchical data in Python.\n",
        "\n",
        "~ Example Use Case:\n",
        "\n",
        "Suppose you want to store information about multiple students, including their marks in different subjects:\n",
        "\n",
        "\n",
        "    students = {\n",
        "          \"Alice\": {\"math\": 90, \"science\": 85},\n",
        "          \"Bob\": {\"math\": 75, \"science\": 80},\n",
        "          \"Sneha\": {\"math\": 95, \"science\": 92}\n",
        "    }\n",
        "\n",
        "# Accessing Bob's science marks\n",
        "\n",
        "    print(students[\"Bob\"][\"science\"])  # Output: 80\n",
        "\n",
        "\n",
        "Here, the outer dictionary has student names as keys.\n",
        "\n",
        "The inner dictionary stores each student’s subject marks.\n",
        "\n",
        "~~Why Use Nested Dictionaries?\n",
        "\n",
        "Organizes hierarchical or structured data.\n",
        "\n",
        "Makes it easy to access specific details without creating multiple separate dictionaries.\n",
        "\n",
        "Useful for applications like student databases, employee records, or JSON data.\n",
        "\n",
        "#17)Describe the time complexity of accessing elements in a dictionary?\n",
        "-->In Python, accessing elements in a dictionary is very fast, thanks to its internal use of a hash table.\n",
        "\n",
        "-->Time Complexity\n",
        "\n",
        "Average case: O(1) → Constant time\n",
        "\n",
        "This means you can get the value for a key almost instantly, no matter how big the dictionary is.\n",
        "\n",
        "Worst case: O(n) → Rare\n",
        "\n",
        "Happens if there are many hash collisions (two keys have the same hash), but Python handles this efficiently, so it’s uncommon.\n",
        "\n",
        "~ Example:\n",
        "\n",
        "    student = {\"name\": \"Sneha\", \"age\": 20, \"city\": \"Pune\"}\n",
        "\n",
        "    # Accessing value by key\n",
        "    print(student[\"age\"])  # O(1) → Very fast\n",
        "\n",
        "#18)In what situations are lists preferred over dictionaries?\n",
        "-->While dictionaries are great for fast key-based access, lists are preferred when you need ordered or sequential data.\n",
        "\n",
        "~ Situations Where Lists Are Better:\n",
        "\n",
        "1)Order Matters:\n",
        "\n",
        "If you need to maintain the order of elements, like a to-do list or queue, lists are ideal.\n",
        "\n",
        "    tasks = [\"wake up\", \"eat breakfast\", \"study\"]\n",
        "\n",
        "\n",
        "2)Simple Collections:\n",
        "\n",
        "When you just need a collection of items without keys, like a list of numbers or names.\n",
        "\n",
        "    numbers = [10, 20, 30, 40]\n",
        "\n",
        "\n",
        "3)Index-Based Access:\n",
        "\n",
        "If you want to access elements by position/index, lists are easier to use.\n",
        "\n",
        "    print(numbers[2])  # Output: 30\n",
        "\n",
        "\n",
        "4)Iteration in Order:\n",
        "\n",
        "Lists are better when you need to loop through items in sequence.\n",
        "\n",
        "#19)Why are dictionaries considered unordered, and how does that affect data retrieval?\n",
        "-->In Python, dictionaries are considered unordered (before Python 3.7) because the items do not have a guaranteed order — the order in which you add key–value pairs may not be the order in which they are stored internally.\n",
        "\n",
        "Note: From Python 3.7 onwards, dictionaries maintain insertion order, but conceptually, they are still accessed by keys, not by position.\n",
        "\n",
        "-- Why Dictionaries Are Unordered\n",
        "\n",
        "Dictionaries use a hash table to store key–value pairs.\n",
        "\n",
        "The hash function decides where each key is stored in memory, which means the storage order does not depend on insertion order.\n",
        "\n",
        "-- Effect on Data Retrieval\n",
        "\n",
        "You cannot rely on the order of items for retrieval.\n",
        "\n",
        "Accessing values is always done via keys, not position.\n",
        "\n",
        "Fast lookups: The unordered structure allows O(1) average-time access, which is much faster than searching through a list.\n",
        "\n",
        "Example:\n",
        "\n",
        "    student = {\"name\": \"Sneha\", \"age\": 20, \"city\": \"Pune\"}\n",
        "\n",
        "    # Access by key (fast)\n",
        "    print(student[\"age\"])  # Output: 20\n",
        "\n",
        "    # Cannot access by position\n",
        "    # print(student[0])    # Error\n",
        "\n",
        "#20)Explain the difference between a list and a dictionary in terms of data retrieval?\n",
        "-->The main difference between a list and a dictionary in terms of data retrieval is how you access the data.\n",
        "\n",
        " 1. List\n",
        "\n",
        "Data is accessed by index (position).\n",
        "\n",
        "Searching for a specific value can take O(n) time in the worst case because Python may need to look through each element.\n",
        "\n",
        "Example:\n",
        "\n",
        "    fruits = [\"apple\", \"banana\", \"mango\"]\n",
        "    print(fruits[1])      # Output: banana\n",
        "    print(\"mango\" in fruits)  # O(n) search\n",
        "\n",
        " 2. Dictionary\n",
        "\n",
        "Data is accessed by key, not by position.\n",
        "\n",
        "Lookup is very fast (O(1) average time) because dictionaries use a hash table internally.\n",
        "\n",
        "Example:\n",
        "\n",
        "    student = {\"name\": \"Sneha\", \"age\": 20}\n",
        "     print(student[\"age\"])   # Output: 20\n",
        "\n",
        "\n",
        "\n",
        "\n",
        "\n",
        "\n",
        "\n",
        "\n"
      ],
      "metadata": {
        "id": "ZGlEecAhZP7j"
      }
    },
    {
      "cell_type": "code",
      "execution_count": null,
      "metadata": {
        "colab": {
          "base_uri": "https://localhost:8080/",
          "height": 35
        },
        "id": "G3yIbfjt-2VD",
        "outputId": "bbf39789-b87f-4623-8312-af2b29665004"
      },
      "outputs": [
        {
          "output_type": "execute_result",
          "data": {
            "text/plain": [
              "'sneha'"
            ],
            "application/vnd.google.colaboratory.intrinsic+json": {
              "type": "string"
            }
          },
          "metadata": {},
          "execution_count": 1
        }
      ],
      "source": [
        "#1. Write a code to create a string with your name and print it?\n",
        "name=\"sneha\"\n",
        "name"
      ]
    },
    {
      "cell_type": "code",
      "source": [
        "#2. Write a code to find the length of the string \"Hello World\"?\n",
        "text = \"Hello World\"\n",
        "print(len(text))"
      ],
      "metadata": {
        "colab": {
          "base_uri": "https://localhost:8080/"
        },
        "id": "Dsoj0xpzCVRQ",
        "outputId": "91caf5c1-35ad-48b3-f41e-958269749f9f"
      },
      "execution_count": null,
      "outputs": [
        {
          "output_type": "stream",
          "name": "stdout",
          "text": [
            "11\n"
          ]
        }
      ]
    },
    {
      "cell_type": "code",
      "source": [
        "#3. Write a code to slice the first 3 characters from the string \"Python Programming?\n",
        "language = \"Python Programming\"\n",
        "print(language[:3])"
      ],
      "metadata": {
        "colab": {
          "base_uri": "https://localhost:8080/"
        },
        "id": "LwfMXYLMEJSa",
        "outputId": "3565917b-bf1d-41ad-91c2-76a30d9db8d6"
      },
      "execution_count": null,
      "outputs": [
        {
          "output_type": "stream",
          "name": "stdout",
          "text": [
            "Pyt\n"
          ]
        }
      ]
    },
    {
      "cell_type": "code",
      "source": [
        "#4. Write a code to convert the string \"hello\" to uppercase?\n",
        "greeting = \"hello\"\n",
        "print(greeting.upper())"
      ],
      "metadata": {
        "colab": {
          "base_uri": "https://localhost:8080/"
        },
        "id": "x5Xw3NRVEZHd",
        "outputId": "d4c7707e-46c3-4cfc-9438-576f4983bfa8"
      },
      "execution_count": null,
      "outputs": [
        {
          "output_type": "stream",
          "name": "stdout",
          "text": [
            "HELLO\n"
          ]
        }
      ]
    },
    {
      "cell_type": "code",
      "source": [
        "#5.Write a code to replace the word \"apple\" with \"orange\" in the string \"I like apple\"?\n",
        "print(\"I like apple\".replace(\"apple\",\"orange\"))"
      ],
      "metadata": {
        "colab": {
          "base_uri": "https://localhost:8080/"
        },
        "id": "5z-hYByXEhK2",
        "outputId": "b271f209-83ef-4a69-e8d6-e5ab3f0f41fb"
      },
      "execution_count": null,
      "outputs": [
        {
          "output_type": "stream",
          "name": "stdout",
          "text": [
            "I like orange\n"
          ]
        }
      ]
    },
    {
      "cell_type": "code",
      "source": [
        "#6.Write a code to create a list with numbers 1 to 5 and print it?\n",
        "numbers = [1, 2, 3, 4, 5]\n",
        "print(numbers)\n"
      ],
      "metadata": {
        "colab": {
          "base_uri": "https://localhost:8080/"
        },
        "id": "PX0hVchLEhKC",
        "outputId": "fe72b73d-39a9-4950-85ab-9e10af36b797"
      },
      "execution_count": null,
      "outputs": [
        {
          "output_type": "stream",
          "name": "stdout",
          "text": [
            "[1, 2, 3, 4, 5]\n"
          ]
        }
      ]
    },
    {
      "cell_type": "code",
      "source": [
        "#7.Write a code to append the number 10 to the list [1, 2, 3, 4]?\n",
        "list=[1,2,3,4]\n",
        "list.append(10)\n",
        "list"
      ],
      "metadata": {
        "colab": {
          "base_uri": "https://localhost:8080/"
        },
        "id": "KXro9fbrFGQP",
        "outputId": "3ab266cd-de38-4807-e214-8ba330403ad7"
      },
      "execution_count": null,
      "outputs": [
        {
          "output_type": "execute_result",
          "data": {
            "text/plain": [
              "[1, 2, 3, 4, 10]"
            ]
          },
          "metadata": {},
          "execution_count": 9
        }
      ]
    },
    {
      "cell_type": "code",
      "source": [
        "#8.Write a code to remove the number 3 from the list [1, 2, 3, 4, 5]?\n",
        "list=[1,2,3,4,5]\n",
        "list.remove(3)\n",
        "print(list)"
      ],
      "metadata": {
        "colab": {
          "base_uri": "https://localhost:8080/"
        },
        "id": "7XGddT9rFR1S",
        "outputId": "6ed5b4bb-1680-444a-baeb-493a69dca2bf"
      },
      "execution_count": null,
      "outputs": [
        {
          "output_type": "stream",
          "name": "stdout",
          "text": [
            "[1, 2, 4, 5]\n"
          ]
        }
      ]
    },
    {
      "cell_type": "code",
      "source": [
        "#9.Write a code to access the second element in the list ['a', 'b', 'c', 'd']?\n",
        "alp=['a','b','c','d']\n",
        "print(alp[1])"
      ],
      "metadata": {
        "colab": {
          "base_uri": "https://localhost:8080/"
        },
        "id": "43eESdexFfRg",
        "outputId": "627c1ee4-bc3b-4154-bca6-8e164370a6d9"
      },
      "execution_count": null,
      "outputs": [
        {
          "output_type": "stream",
          "name": "stdout",
          "text": [
            "b\n"
          ]
        }
      ]
    },
    {
      "cell_type": "code",
      "source": [
        "#10.Write a code to reverse the list [10, 20, 30, 40, 50].?\n",
        "numbers2 = [10, 20, 30, 40, 50]\n",
        "numbers2.reverse()\n",
        "print(numbers2)"
      ],
      "metadata": {
        "colab": {
          "base_uri": "https://localhost:8080/"
        },
        "id": "Fd5SFiwYGQ5V",
        "outputId": "3f81800b-efcc-4273-cfa5-40d41968eb98"
      },
      "execution_count": null,
      "outputs": [
        {
          "output_type": "stream",
          "name": "stdout",
          "text": [
            "[50, 40, 30, 20, 10]\n"
          ]
        }
      ]
    },
    {
      "cell_type": "code",
      "source": [
        "#11.Create a tuple with elements 100, 200, 300 and print it?\n",
        "tup=(100,200,300)\n",
        "print(tup)"
      ],
      "metadata": {
        "colab": {
          "base_uri": "https://localhost:8080/"
        },
        "id": "PpNwzOhdGQ4J",
        "outputId": "ab904586-0072-42ac-dc35-1dac6da871ea"
      },
      "execution_count": null,
      "outputs": [
        {
          "output_type": "stream",
          "name": "stdout",
          "text": [
            "(100, 200, 300)\n"
          ]
        }
      ]
    },
    {
      "cell_type": "code",
      "source": [
        "#12. Write a code to access the second-to-last element of the tuple ('red', 'green', 'blue', 'yellow').?\n",
        "colors=(\"red\",\"green\",\"blue\",\"yellow\")\n",
        "colors[-2]\n"
      ],
      "metadata": {
        "colab": {
          "base_uri": "https://localhost:8080/",
          "height": 35
        },
        "id": "s_BGG7pbGpoZ",
        "outputId": "1a2f6c59-6e56-4d7d-cf8d-c82b2d6a7756"
      },
      "execution_count": null,
      "outputs": [
        {
          "output_type": "execute_result",
          "data": {
            "text/plain": [
              "'blue'"
            ],
            "application/vnd.google.colaboratory.intrinsic+json": {
              "type": "string"
            }
          },
          "metadata": {},
          "execution_count": 33
        }
      ]
    },
    {
      "cell_type": "code",
      "source": [
        "#13. Write a code to find the minimum number in the tuple (10, 20, 5, 15).?\n",
        "tup=(10,20,5,15)\n",
        "print(min(tup))"
      ],
      "metadata": {
        "colab": {
          "base_uri": "https://localhost:8080/"
        },
        "id": "DPTR0XZmGpnF",
        "outputId": "5728d2f8-3534-48ed-df6d-bcbdcee6538c"
      },
      "execution_count": null,
      "outputs": [
        {
          "output_type": "stream",
          "name": "stdout",
          "text": [
            "5\n"
          ]
        }
      ]
    },
    {
      "cell_type": "code",
      "source": [
        "#14. Write a code to find the index of the element \"cat\" in the tuple ('dog', 'cat', 'rabbit').?\n",
        "tup=(\"dog\",\"cat\",\"rabbit\")\n",
        "index_element=tup.index(\"cat\")\n",
        "print(index_element)"
      ],
      "metadata": {
        "colab": {
          "base_uri": "https://localhost:8080/"
        },
        "id": "_OYV7f8XJ9rN",
        "outputId": "6a6cccd1-9218-4711-e8ef-6c13d7a89f06"
      },
      "execution_count": null,
      "outputs": [
        {
          "output_type": "stream",
          "name": "stdout",
          "text": [
            "1\n"
          ]
        }
      ]
    },
    {
      "cell_type": "code",
      "source": [
        "#15. Write a code to create a tuple containing three different fruits and check if \"kiwi\" is in it.?\n",
        "fruits=(\"apple\",\"banana\",\"kiwi\")\n",
        "print(\"kiwi\" in fruits)"
      ],
      "metadata": {
        "colab": {
          "base_uri": "https://localhost:8080/"
        },
        "id": "JIpsvmdPKGVJ",
        "outputId": "944fc675-aac9-490e-dc33-41820ab77af1"
      },
      "execution_count": null,
      "outputs": [
        {
          "output_type": "stream",
          "name": "stdout",
          "text": [
            "True\n"
          ]
        }
      ]
    },
    {
      "cell_type": "code",
      "source": [
        "#16. Write a code to create a set with the elements 'a', 'b', 'c' and print it.?\n",
        "set={'a','b','c'}\n",
        "print(set)"
      ],
      "metadata": {
        "colab": {
          "base_uri": "https://localhost:8080/"
        },
        "id": "VNxrgcdTKK6g",
        "outputId": "cd9e368f-1f5c-40fc-b58a-7d824c4aa825"
      },
      "execution_count": null,
      "outputs": [
        {
          "output_type": "stream",
          "name": "stdout",
          "text": [
            "{'a', 'b', 'c'}\n"
          ]
        }
      ]
    },
    {
      "cell_type": "code",
      "source": [
        "#17. Write a code to clear all elements from the set {1, 2, 3, 4, 5}.?\n",
        "set={1,2,3,4,5}\n",
        "set.clear()\n",
        "print(set)"
      ],
      "metadata": {
        "colab": {
          "base_uri": "https://localhost:8080/"
        },
        "id": "3wHm3lx1KMlw",
        "outputId": "3530ef68-daaa-41ff-e433-4d89c2b8c7cc"
      },
      "execution_count": null,
      "outputs": [
        {
          "output_type": "stream",
          "name": "stdout",
          "text": [
            "set()\n"
          ]
        }
      ]
    },
    {
      "cell_type": "code",
      "source": [
        "#18. Write a code to remove the element 4 from the set {1, 2, 3, 4}.?\n",
        "set={1,2,3,4}\n",
        "set.remove(4)\n",
        "print(set)"
      ],
      "metadata": {
        "colab": {
          "base_uri": "https://localhost:8080/"
        },
        "id": "8Ip8UKjVKSmR",
        "outputId": "ee680af7-8d2a-4892-aca8-91072c535805"
      },
      "execution_count": null,
      "outputs": [
        {
          "output_type": "stream",
          "name": "stdout",
          "text": [
            "{1, 2, 3}\n"
          ]
        }
      ]
    },
    {
      "cell_type": "code",
      "source": [
        "#19. Write a code to find the union of two sets {1, 2, 3} and {3, 4, 5}.?\n",
        "set1={1,2,3}\n",
        "set2={3,4,5}\n",
        "union_set=set1.union(set2)\n",
        "print(union_set)"
      ],
      "metadata": {
        "colab": {
          "base_uri": "https://localhost:8080/"
        },
        "id": "jvkraH1xKU-C",
        "outputId": "74aa437c-5e41-442f-d139-26094b5f367d"
      },
      "execution_count": null,
      "outputs": [
        {
          "output_type": "stream",
          "name": "stdout",
          "text": [
            "{1, 2, 3, 4, 5}\n"
          ]
        }
      ]
    },
    {
      "cell_type": "code",
      "source": [
        "#20. Write a code to find the intersection of two sets {1, 2, 3} and {2, 3, 4}.?\n",
        "set1={1,2,3}\n",
        "set2={2,3,4}\n",
        "intersetion_set=set1.intersection(set2)\n",
        "print(intersetion_set)"
      ],
      "metadata": {
        "colab": {
          "base_uri": "https://localhost:8080/"
        },
        "id": "pCCOoiiEKViq",
        "outputId": "4af2f153-6b28-489a-adcf-582930b8066e"
      },
      "execution_count": null,
      "outputs": [
        {
          "output_type": "stream",
          "name": "stdout",
          "text": [
            "{2, 3}\n"
          ]
        }
      ]
    },
    {
      "cell_type": "code",
      "source": [
        "#21. Write a code to create a dictionary with the keys \"name\", \"age\", and \"city\", and print it.?\n",
        "dict={\"name\":\"sneha\",\"age\":20,\"city\":\"hyderabad\"}\n",
        "dict"
      ],
      "metadata": {
        "colab": {
          "base_uri": "https://localhost:8080/"
        },
        "id": "bO2tnHrhKaRQ",
        "outputId": "662fcc0b-28c8-4477-84d1-bf218a2e6c24"
      },
      "execution_count": null,
      "outputs": [
        {
          "output_type": "execute_result",
          "data": {
            "text/plain": [
              "{'name': 'sneha', 'age': 20, 'city': 'hyderabad'}"
            ]
          },
          "metadata": {},
          "execution_count": 24
        }
      ]
    },
    {
      "cell_type": "code",
      "source": [
        "#22. Write a code to add a new key-value pair \"country\": \"USA\" to the dictionary {'name': 'John', 'age': 25}.?\n",
        "dict={'name': 'John', 'age': 25}\n",
        "dict[\"country\"]=\"USA\"\n",
        "print(dict)"
      ],
      "metadata": {
        "colab": {
          "base_uri": "https://localhost:8080/"
        },
        "id": "PoIJgZYhKcY0",
        "outputId": "486f4db0-c81d-4e58-92aa-8b27d709652a"
      },
      "execution_count": null,
      "outputs": [
        {
          "output_type": "stream",
          "name": "stdout",
          "text": [
            "{'name': 'John', 'age': 25, 'country': 'USA'}\n"
          ]
        }
      ]
    },
    {
      "cell_type": "code",
      "source": [
        "#23. Write a code to access the value associated with the key \"name\" in the dictionary {'name': 'Alice', 'age': 30}.?\n",
        "dict={'name': 'Alice', 'age': 30}\n",
        "print(dict[\"name\"])"
      ],
      "metadata": {
        "id": "8ZIUL150KdE3",
        "colab": {
          "base_uri": "https://localhost:8080/"
        },
        "outputId": "853e15f3-3201-46dc-8199-d143ae6795e0"
      },
      "execution_count": null,
      "outputs": [
        {
          "output_type": "stream",
          "name": "stdout",
          "text": [
            "Alice\n"
          ]
        }
      ]
    },
    {
      "cell_type": "code",
      "source": [
        "#24. Write a code to remove the key \"age\" from the dictionary {'name': 'Bob', 'age': 22, 'city': 'New York'}.?\n",
        "dict={'name': 'Bob', 'age': 22, 'city': 'New York'}\n",
        "dict.pop(\"age\")\n",
        "print(dict)"
      ],
      "metadata": {
        "colab": {
          "base_uri": "https://localhost:8080/"
        },
        "id": "tlk1IpL-KgNy",
        "outputId": "4b4e9f7b-148a-4019-c3d6-870881ff1157"
      },
      "execution_count": null,
      "outputs": [
        {
          "output_type": "stream",
          "name": "stdout",
          "text": [
            "{'name': 'Bob', 'city': 'New York'}\n"
          ]
        }
      ]
    },
    {
      "cell_type": "code",
      "source": [
        "#25. Write a code to check if the key \"city\" exists in the dictionary {'name': 'Alice', 'city': 'Paris'}.?\n",
        "\n",
        "dict1 = {'name': 'Alice', 'city': 'Paris'}\n",
        "if 'city' in dict1:\n",
        "    print(\"Key 'city' exists in the dictionary.\")\n",
        "else:\n",
        "    print(\"Key 'city' does not exist in the dictionary.\")\n"
      ],
      "metadata": {
        "colab": {
          "base_uri": "https://localhost:8080/"
        },
        "id": "JZYLpHQrKiRB",
        "outputId": "51a3b31b-1a23-44e5-e3de-f33be1608824"
      },
      "execution_count": null,
      "outputs": [
        {
          "output_type": "stream",
          "name": "stdout",
          "text": [
            "Key 'city' exists in the dictionary.\n"
          ]
        }
      ]
    },
    {
      "cell_type": "code",
      "source": [
        "#26. Write a code to create a list, a tuple, and a dictionary, and print them all.?\n",
        "my_list = [10, 20, 30, 40]\n",
        "my_tuple = ('apple', 'banana', 'cherry')\n",
        "my_dict = {'name': 'Sneha', 'age': 21, 'city': 'Pune'}\n",
        "print(\"List:\", my_list)\n",
        "print(\"Tuple:\", my_tuple)\n",
        "print(\"Dictionary:\", my_dict)"
      ],
      "metadata": {
        "colab": {
          "base_uri": "https://localhost:8080/"
        },
        "id": "aTJ1bE0iKo9g",
        "outputId": "18d68c52-7897-4290-da2e-916f7a21e0f8"
      },
      "execution_count": null,
      "outputs": [
        {
          "output_type": "stream",
          "name": "stdout",
          "text": [
            "List: [10, 20, 30, 40]\n",
            "Tuple: ('apple', 'banana', 'cherry')\n",
            "Dictionary: {'name': 'Sneha', 'age': 21, 'city': 'Pune'}\n"
          ]
        }
      ]
    },
    {
      "cell_type": "code",
      "source": [
        "#27. Create a list of 5 random numbers between 1 and 100, sort it, and print?\n",
        "import random\n",
        "random_numbers = [random.randint(1, 100) for _ in range(5)]\n",
        "random_numbers.sort()\n",
        "print(\"1-100:\", random_numbers)"
      ],
      "metadata": {
        "colab": {
          "base_uri": "https://localhost:8080/"
        },
        "id": "OWesq6bNe37C",
        "outputId": "9e304320-9642-4d86-fe33-5cfa4c46fc84"
      },
      "execution_count": null,
      "outputs": [
        {
          "output_type": "stream",
          "name": "stdout",
          "text": [
            "1-100: [19, 24, 30, 41, 45]\n"
          ]
        }
      ]
    },
    {
      "cell_type": "code",
      "source": [
        "#28. Write a code to create a list with strings and print the element at the third index.?\n",
        "list=[\"apple\",\"banana\",\"kiwi\",\"cherry\"]\n",
        "print(list[3])"
      ],
      "metadata": {
        "colab": {
          "base_uri": "https://localhost:8080/"
        },
        "id": "G8LkTjlnKqDh",
        "outputId": "0810be24-3bd9-4848-b48c-bc9a54a35114"
      },
      "execution_count": null,
      "outputs": [
        {
          "output_type": "stream",
          "name": "stdout",
          "text": [
            "cherry\n"
          ]
        }
      ]
    },
    {
      "cell_type": "code",
      "source": [
        "#29. Write a code to combine two dictionaries into one and print the result.?\n",
        "dict1={\"name\":\"sneha\",\"age\":20}\n",
        "dict2={\"city\":\"hyderabad\",\"country\":\"india\"}\n",
        "combined_dict={**dict1,**dict2}\n",
        "combined_dict"
      ],
      "metadata": {
        "id": "oFZgeGVzKs8O",
        "colab": {
          "base_uri": "https://localhost:8080/"
        },
        "outputId": "55c9803e-e44a-4894-cd4f-dccd329a6e22"
      },
      "execution_count": null,
      "outputs": [
        {
          "output_type": "execute_result",
          "data": {
            "text/plain": [
              "{'name': 'sneha', 'age': 20, 'city': 'hyderabad', 'country': 'india'}"
            ]
          },
          "metadata": {},
          "execution_count": 7
        }
      ]
    },
    {
      "cell_type": "code",
      "source": [
        "#30. Write a code to convert a list of strings into a set.?\n",
        "fruits = [\"apple\", \"banana\", \"cherry\", \"apple\"]\n",
        "fruit_set = set(fruits)\n",
        "print(fruit_set)"
      ],
      "metadata": {
        "colab": {
          "base_uri": "https://localhost:8080/"
        },
        "id": "UazuID7zKuh6",
        "outputId": "60ac9703-05d7-4c94-ada6-a264718b5df5"
      },
      "execution_count": null,
      "outputs": [
        {
          "output_type": "stream",
          "name": "stdout",
          "text": [
            "{'banana', 'apple', 'cherry'}\n"
          ]
        }
      ]
    }
  ]
}